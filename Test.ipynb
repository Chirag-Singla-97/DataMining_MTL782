{
 "cells": [
  {
   "cell_type": "code",
   "execution_count": 1,
   "id": "a76f3a5d",
   "metadata": {},
   "outputs": [],
   "source": [
    "import pandas as pd\n",
    "import json\n",
    "import csv\n",
    "\n",
    "data = []\n",
    "\n",
    "for line in open ('labels.ndjson', 'r'):\n",
    "    data.append(json.loads(line))\n",
    "#print(data)\n",
    "\n",
    "data2=[]\n",
    "\n",
    "#df=pd.read_json('feeds.ndjson')\n",
    "\n",
    "for line2 in open ('feeds.ndjson', 'r'):\n",
    "    data2.append(json.loads(line2))\n",
    "    \n",
    "#print(data2)"
   ]
  },
  {
   "cell_type": "code",
   "execution_count": 2,
   "id": "868acaa9",
   "metadata": {},
   "outputs": [],
   "source": [
    "with open('LabelTest.csv', 'w') as f:\n",
    "    fnames = data[0].keys()\n",
    "    Writer = csv.DictWriter(f, fieldnames = fnames)\n",
    "    Writer.writeheader()\n",
    "    for j in data:\n",
    "        Writer.writerow(j)\n",
    "        #print(type(j))"
   ]
  },
  {
   "cell_type": "code",
   "execution_count": 3,
   "id": "a97a77f3",
   "metadata": {},
   "outputs": [
    {
     "name": "stdout",
     "output_type": "stream",
     "text": [
      "2158.5083682008367\n"
     ]
    }
   ],
   "source": [
    "with open('FeedTest.csv', 'w', encoding = 'utf-8') as f:\n",
    "    fnames = data2[0].keys()\n",
    "    Writer2 = csv.DictWriter(f, fieldnames = fnames)\n",
    "    Writer2.writeheader()\n",
    "    tweets = [];\n",
    "    n = [];\n",
    "    for j in data2:\n",
    "        a=j['text']\n",
    "        n.append(len(a))\n",
    "        #print(len(a))\n",
    "        #print(type(a))\n",
    "        if len(a)<=500:\n",
    "            Writer2.writerow(j)\n",
    "            b = a + [0]*(500-len(a));\n",
    "        else:\n",
    "            b=a[0:500]\n",
    "            j['text']=b\n",
    "            Writer2.writerow(j)\n",
    "        tweets.append(b);\n",
    "    print(sum(n)/len(n))\n",
    "        #print(type(j))"
   ]
  },
  {
   "cell_type": "code",
   "execution_count": 10,
   "id": "0c8229de",
   "metadata": {},
   "outputs": [
    {
     "name": "stdout",
     "output_type": "stream",
     "text": [
      "500\n"
     ]
    }
   ],
   "source": [
    "print(len(tweets[34]))"
   ]
  },
  {
   "cell_type": "code",
   "execution_count": 10,
   "id": "4a68d889",
   "metadata": {},
   "outputs": [
    {
     "name": "stdout",
     "output_type": "stream",
     "text": [
      "['star', 'star', 'superstar', 'star', 'star', 'star', 'rising', 'star', 'star', 'star', 'star', 'star', 'star', 'star', 'superstar', 'star', 'superstar', 'star', 'star', 'superstar', 'star', 'star', 'star', 'star', 'star', 'superstar', 'star', 'star', 'rising', 'superstar', 'star', 'star', 'star', 'star', 'star', 'star', 'star', 'star', 'star', 'star', 'star', 'star', 'star', 'star', 'star', 'star', 'star', 'star', 'superstar', 'star', 'star', 'star', 'superstar', 'star', 'star', 'star', 'star', 'star', 'star', 'star', 'superstar', 'star', 'star', 'star', 'superstar', 'superstar', 'star', 'star', 'star', 'star', 'superstar', 'rising', 'star', 'star', 'superstar', 'superstar', 'star', 'superstar', 'superstar', 'star', 'rising', 'star', 'superstar', 'star', 'star', 'star', 'star', 'star', 'star', 'star', 'star', 'superstar', 'superstar', 'star', 'star', 'star', 'star', 'superstar', 'star', 'star', 'star', 'superstar', 'rising', 'star', 'star', 'star', 'superstar', 'star', 'star', 'superstar', 'star', 'star', 'star', 'star', 'star', 'superstar', 'star', 'star', 'star', 'star', 'star', 'star', 'rising', 'star', 'star', 'star', 'superstar', 'rising', 'star', 'rising', 'superstar', 'star', 'star', 'star', 'star', 'star', 'star', 'star', 'star', 'rising', 'rising', 'superstar', 'star', 'star', 'star', 'rising', 'star', 'star', 'star', 'star', 'star', 'superstar', 'star', 'superstar', 'star', 'star', 'star', 'star', 'star', 'star', 'star', 'star', 'superstar', 'star', 'star', 'star', 'star', 'rising', 'star', 'star', 'rising', 'star', 'star', 'superstar', 'star', 'star', 'star', 'star', 'star', 'star', 'rising', 'star', 'superstar', 'star', 'star', 'superstar', 'star', 'superstar', 'star', 'superstar', 'superstar', 'star', 'superstar', 'star', 'star', 'star', 'rising', 'star', 'star', 'star', 'superstar', 'superstar', 'star', 'star', 'superstar', 'star', 'star', 'star', 'superstar', 'star', 'star', 'rising', 'star', 'star', 'star', 'star', 'star', 'superstar', 'star', 'star', 'star', 'star', 'superstar', 'star', 'rising', 'star', 'star', 'superstar', 'star', 'star', 'superstar', 'superstar', 'star', 'superstar', 'star', 'star', 'star', 'star', 'star', 'star', 'rising', 'star', 'superstar', 'star', 'star', 'star', 'superstar', 'superstar', 'star', 'star', 'star', 'star', 'star', 'star', 'star', 'star', 'superstar', 'star', 'star', 'star', 'star', 'superstar', 'star', 'superstar', 'star', 'superstar', 'star', 'star', 'star', 'star', 'superstar', 'star', 'star', 'superstar', 'superstar', 'star', 'star', 'superstar', 'superstar', 'star', 'star', 'star', 'star', 'star', 'star', 'star', 'star', 'superstar', 'star', 'star', 'star', 'star', 'star', 'superstar', 'star', 'star', 'superstar', 'star', 'star', 'star', 'star', 'star', 'star', 'superstar', 'star', 'star', 'star', 'star', 'star', 'star', 'star', 'star', 'superstar', 'star', 'star', 'superstar', 'star', 'superstar', 'star', 'star', 'superstar', 'star', 'star', 'star', 'star', 'superstar', 'star', 'star', 'star', 'star', 'superstar', 'star', 'star', 'star', 'star', 'star', 'star', 'star', 'star', 'star', 'star', 'star', 'star', 'star', 'star', 'superstar', 'star', 'star', 'superstar', 'star', 'star', 'superstar', 'star', 'star', 'superstar', 'star', 'star', 'star', 'superstar', 'star', 'star', 'superstar', 'superstar', 'superstar', 'star', 'star', 'star', 'superstar', 'star', 'star', 'star', 'star', 'superstar', 'star', 'rising', 'star', 'star', 'star', 'star', 'star', 'star', 'star', 'superstar', 'star', 'star', 'star', 'star', 'star', 'star', 'star', 'star', 'star', 'superstar', 'superstar', 'star', 'star', 'star', 'rising', 'star', 'star', 'superstar', 'star', 'rising', 'star', 'star', 'star', 'star', 'star', 'star', 'star', 'star', 'star', 'rising', 'superstar', 'superstar', 'star', 'star', 'star', 'star', 'star', 'star', 'star', 'star', 'star', 'star', 'star', 'star', 'rising', 'star', 'star', 'star', 'superstar', 'star', 'star', 'superstar', 'star', 'star', 'superstar', 'star', 'star', 'star', 'superstar', 'star', 'star', 'star', 'superstar', 'superstar', 'star', 'superstar', 'star', 'star', 'star', 'star', 'star', 'star', 'star', 'star', 'star', 'star', 'star', 'star', 'rising', 'star', 'star', 'rising', 'star', 'star', 'star', 'star', 'star', 'star', 'star', 'star', 'superstar', 'star', 'superstar', 'star', 'star', 'star', 'star', 'star', 'superstar', 'star', 'star', 'star', 'star', 'star', 'star', 'star', 'star', 'superstar', 'star', 'superstar', 'star', 'superstar', 'star', 'star', 'star', 'superstar', 'rising', 'star', 'star', 'star', 'star', 'star', 'star', 'star', 'star', 'rising', 'superstar', 'superstar', 'star', 'star', 'rising', 'superstar', 'star', 'star', 'star', 'superstar', 'star', 'star', 'superstar', 'star', 'star', 'star', 'superstar', 'star', 'star', 'star', 'star', 'star', 'star', 'superstar', 'star', 'superstar', 'star', 'superstar', 'star', 'star', 'star', 'star', 'star', 'star', 'star', 'star', 'star', 'star', 'star', 'star', 'star', 'star', 'rising', 'star', 'star', 'star', 'star', 'rising', 'star', 'star', 'star', 'star', 'star', 'star', 'star', 'star', 'star', 'star', 'star', 'superstar', 'star', 'star', 'star', 'star', 'star', 'star', 'superstar', 'star', 'superstar', 'star', 'star', 'star', 'star', 'star', 'star', 'star', 'superstar', 'superstar', 'star', 'star', 'star', 'star', 'star', 'star', 'rising', 'star', 'star', 'star', 'star', 'star', 'superstar', 'star', 'star', 'star', 'rising', 'star', 'star', 'star', 'superstar', 'star', 'star', 'superstar', 'superstar', 'superstar', 'star', 'superstar', 'superstar', 'star', 'star', 'superstar', 'star', 'star', 'star', 'superstar', 'star', 'star', 'star', 'star', 'star', 'star', 'star', 'rising', 'star', 'star', 'star', 'rising', 'star', 'star', 'star', 'star', 'star', 'superstar', 'rising', 'star', 'star', 'star', 'star', 'star', 'star', 'star', 'superstar', 'star', 'star', 'star', 'star', 'star', 'superstar', 'star', 'superstar', 'star', 'star', 'star', 'star', 'superstar', 'star', 'star', 'star', 'star', 'star', 'star', 'superstar', 'star', 'superstar', 'star', 'star', 'star', 'star', 'superstar', 'star', 'superstar', 'star', 'star', 'superstar', 'superstar', 'star', 'superstar', 'star', 'star', 'star', 'star', 'star', 'star', 'star', 'star', 'star', 'star', 'star', 'superstar', 'superstar', 'star', 'star', 'star', 'star', 'star', 'star', 'star', 'star', 'superstar', 'star', 'star', 'star', 'star', 'star', 'star', 'star', 'star', 'star', 'star', 'rising', 'star', 'star', 'star', 'star', 'star', 'star', 'superstar', 'star', 'star', 'star', 'star', 'star', 'star', 'star', 'star', 'star', 'star', 'star', 'star', 'star', 'star', 'star', 'star', 'star', 'star', 'rising', 'star', 'star', 'star', 'star', 'star', 'star', 'star', 'star', 'star', 'star', 'star', 'star', 'star', 'superstar', 'star', 'superstar', 'star', 'star', 'star', 'star', 'star', 'star', 'star', 'star', 'star', 'star', 'star', 'star', 'star', 'rising', 'rising', 'superstar', 'superstar', 'star', 'star', 'star', 'star', 'superstar', 'star', 'superstar', 'superstar', 'star', 'star', 'star', 'star', 'star', 'star', 'rising', 'star', 'star', 'star', 'superstar', 'rising', 'star', 'superstar', 'star', 'star', 'superstar', 'star', 'star', 'star', 'star', 'rising', 'star', 'star', 'star', 'superstar', 'star', 'star', 'star', 'star', 'star', 'star', 'star', 'star', 'star', 'star', 'star', 'star', 'star', 'star', 'star', 'star', 'star', 'star', 'star', 'star', 'star', 'superstar', 'star', 'star', 'superstar', 'rising', 'star', 'superstar', 'star', 'star', 'star', 'superstar', 'star', 'star', 'superstar', 'star', 'star', 'star', 'star', 'superstar', 'star', 'superstar', 'star', 'star', 'star', 'rising', 'star', 'star', 'star', 'star', 'superstar', 'star', 'rising', 'star', 'star', 'star', 'star', 'star', 'star', 'star', 'star', 'star', 'star', 'star', 'star', 'superstar', 'star', 'star', 'star', 'superstar', 'superstar', 'superstar', 'star', 'star', 'star', 'superstar', 'star', 'star', 'superstar', 'superstar', 'star', 'star', 'superstar', 'star', 'superstar', 'star', 'star', 'star', 'superstar', 'star', 'star', 'superstar', 'star', 'star', 'star', 'star', 'star', 'star', 'star', 'rising', 'superstar', 'superstar', 'star', 'star', 'star', 'superstar', 'superstar', 'star', 'superstar', 'star', 'superstar', 'star', 'star', 'star', 'star', 'superstar', 'star', 'star', 'star', 'star', 'star', 'star', 'star', 'star', 'superstar', 'superstar', 'star', 'superstar', 'star', 'star', 'star', 'superstar', 'star', 'star', 'star', 'star', 'star', 'star', 'star', 'superstar', 'star', 'star', 'star', 'star', 'star']\n"
     ]
    }
   ],
   "source": [
    "import csv\n",
    "\n",
    "with open('LabelTest.csv', newline='') as f:\n",
    "    reader = csv.reader(f)\n",
    "    data2 = list(reader)\n",
    "\n",
    "Lt = data2[2:1914:2]\n",
    "x = [];\n",
    "x1 = [];\n",
    "for i in range (0,956):\n",
    "    x.append(Lt[i][0:4])\n",
    "#    if(x[i][2]=='male'):\n",
    "#        x1.append(0);\n",
    "#    else:\n",
    "#        x1.append(1);\n",
    "    x1.append(x[i][3])\n",
    "print(x1)"
   ]
  },
  {
   "cell_type": "code",
   "execution_count": 15,
   "id": "98688c04",
   "metadata": {},
   "outputs": [],
   "source": [
    "from sklearn.preprocessing import LabelEncoder,LabelBinarizer\n",
    "le = LabelEncoder()\n",
    "putTest =  [];\n",
    "for i in range (0,956):\n",
    "    y2 = le.fit_transform(tweets[i]);\n",
    "    putTest.append(y2)\n",
    "#print(put);"
   ]
  },
  {
   "cell_type": "code",
   "execution_count": 12,
   "id": "a5670dc4",
   "metadata": {},
   "outputs": [
    {
     "data": {
      "text/plain": [
       "SVC()"
      ]
     },
     "execution_count": 12,
     "metadata": {},
     "output_type": "execute_result"
    }
   ],
   "source": [
    "from sklearn import svm\n",
    "inp = putTest;\n",
    "outp = x1\n",
    "clf = svm.SVC()\n",
    "clf.fit(inp, outp)"
   ]
  },
  {
   "cell_type": "code",
   "execution_count": 16,
   "id": "56ec2b8e",
   "metadata": {},
   "outputs": [
    {
     "name": "stdout",
     "output_type": "stream",
     "text": [
      "['star' 'star' 'superstar' 'star' 'star' 'star' 'star' 'star' 'star'\n",
      " 'star' 'star' 'star' 'star' 'star' 'superstar' 'star' 'superstar' 'star'\n",
      " 'star' 'superstar' 'star' 'star' 'star' 'star' 'star' 'star' 'star'\n",
      " 'star' 'star' 'star' 'star' 'star' 'star' 'star' 'star' 'star' 'star'\n",
      " 'star' 'star' 'star' 'star' 'star' 'star' 'star' 'star' 'star' 'star'\n",
      " 'star' 'superstar' 'star' 'star' 'star' 'superstar' 'star' 'star' 'star'\n",
      " 'star' 'star' 'star' 'star' 'superstar' 'star' 'star' 'star' 'superstar'\n",
      " 'superstar' 'star' 'star' 'star' 'star' 'superstar' 'star' 'star' 'star'\n",
      " 'star' 'star' 'star' 'superstar' 'superstar' 'star' 'star' 'star'\n",
      " 'superstar' 'star' 'star' 'star' 'star' 'star' 'star' 'star' 'star'\n",
      " 'superstar' 'superstar' 'star' 'star' 'star' 'star' 'superstar' 'star'\n",
      " 'star']\n",
      "['star', 'star', 'superstar', 'star', 'star', 'star', 'rising', 'star', 'star', 'star', 'star', 'star', 'star', 'star', 'superstar', 'star', 'superstar', 'star', 'star', 'superstar', 'star', 'star', 'star', 'star', 'star', 'superstar', 'star', 'star', 'rising', 'superstar', 'star', 'star', 'star', 'star', 'star', 'star', 'star', 'star', 'star', 'star', 'star', 'star', 'star', 'star', 'star', 'star', 'star', 'star', 'superstar', 'star', 'star', 'star', 'superstar', 'star', 'star', 'star', 'star', 'star', 'star', 'star', 'superstar', 'star', 'star', 'star', 'superstar', 'superstar', 'star', 'star', 'star', 'star', 'superstar', 'rising', 'star', 'star', 'superstar', 'superstar', 'star', 'superstar', 'superstar', 'star', 'rising', 'star', 'superstar', 'star', 'star', 'star', 'star', 'star', 'star', 'star', 'star', 'superstar', 'superstar', 'star', 'star', 'star', 'star', 'superstar', 'star', 'star']\n"
     ]
    }
   ],
   "source": [
    "p = putTest\n",
    "# putTest is the variable with information of input data for the test portion\n",
    "\n",
    "Pred = clf.predict(p);\n",
    "print(Pred[0:100]);\n",
    "print(x1[0:100]);\n",
    "#print 100 predicted and actual values"
   ]
  },
  {
   "cell_type": "code",
   "execution_count": 17,
   "id": "5c59a4ef",
   "metadata": {},
   "outputs": [],
   "source": [
    "def remove_emoji(string):\n",
    "    emoji_pattern = re.compile(\"[\"\n",
    "                               u\"\\U0001F600-\\U0001F64F\"  # emoticons\n",
    "                               u\"\\U0001F300-\\U0001F5FF\"  # symbols & pictographs\n",
    "                               u\"\\U0001F680-\\U0001F6FF\"  # transport & map symbols\n",
    "                               u\"\\U0001F1E0-\\U0001F1FF\"  # flags (iOS)\n",
    "                               u\"\\U00002500-\\U00002BEF\"  # chinese char\n",
    "                               u\"\\U00002702-\\U000027B0\"\n",
    "                               u\"\\U00002702-\\U000027B0\"\n",
    "                               u\"\\U000024C2-\\U0001F251\"\n",
    "                               u\"\\U0001f926-\\U0001f937\"\n",
    "                               u\"\\U00010000-\\U0010ffff\"\n",
    "                               u\"\\u2640-\\u2642\"\n",
    "                               u\"\\u2600-\\u2B55\"\n",
    "                               u\"\\u200d\"\n",
    "                               u\"\\u23cf\"\n",
    "                               u\"\\u23e9\"\n",
    "                               u\"\\u231a\"\n",
    "                               u\"\\ufe0f\"  # dingbats\n",
    "                               u\"\\u3030\"\n",
    "                               \"]+\", flags=re.UNICODE)\n",
    "    #print(emoji_pattern)\n",
    "    return emoji_pattern.sub(r'Emoji', string)\n",
    "\n",
    "def remove_character(string):\n",
    "    \n",
    "    alphanumeric = \"\"\n",
    "    \n",
    "    for character in string:\n",
    "        if character != \"@\" and character != \"#\":\n",
    "            alphanumeric += character\n",
    "    \n",
    "    return alphanumeric\n",
    "\n",
    "#import re\n",
    "def remove_url(string):\n",
    "    text = re.sub(r'http[s]?://(?:[a-zA-Z]|[0-9]|[$-_@.&+]|[!*\\(\\),]|(?:%[0-9a-fA-F][0-9a-fA-F]))+', 'URL', string, flags=re.MULTILINE)\n",
    "    return text\n"
   ]
  },
  {
   "cell_type": "code",
   "execution_count": 23,
   "id": "6e68e9b0",
   "metadata": {},
   "outputs": [
    {
     "name": "stdout",
     "output_type": "stream",
     "text": [
      "v excited that this acoustic ballad ft. @Queenstarlie is out🧟‍♀️ (spotify @applemusic)… https://t.co/Hqn1MUmbx6\n",
      "v excited that this acoustic ballad ft. @Queenstarlie is outEmoji (spotify @applemusic)… https://t.co/Hqn1MUmbx6\n",
      "v excited that this acoustic ballad ft. @Queenstarlie is outEmoji (spotify @applemusic)… URL\n",
      "v excited that this acoustic ballad ft. Queenstarlie is outEmoji (spotify applemusic)… URL\n",
      "\n"
     ]
    }
   ],
   "source": [
    "for k in a[71:72]:\n",
    "            print(k)\n",
    "            b=remove_emoji(k)\n",
    "            print(b)\n",
    "            c=remove_url(b)\n",
    "            print(c)\n",
    "            d=remove_character(c)\n",
    "            print(d)\n",
    "            print()"
   ]
  },
  {
   "cell_type": "code",
   "execution_count": 31,
   "id": "35255bd9",
   "metadata": {},
   "outputs": [
    {
     "name": "stdout",
     "output_type": "stream",
     "text": [
      "0.487\n"
     ]
    }
   ],
   "source": [
    "import sklearn\n",
    "y_pred = Pred;\n",
    "y_true = x1;\n",
    "F1fame = sklearn.metrics.f1_score(y_true, y_pred, labels=None, pos_label=1, average='binary', sample_weight=None, zero_division='warn')\n",
    "print(F1fame)"
   ]
  },
  {
   "cell_type": "code",
   "execution_count": null,
   "id": "55db9785",
   "metadata": {},
   "outputs": [],
   "source": []
  }
 ],
 "metadata": {
  "kernelspec": {
   "display_name": "Python 3",
   "language": "python",
   "name": "python3"
  },
  "language_info": {
   "codemirror_mode": {
    "name": "ipython",
    "version": 3
   },
   "file_extension": ".py",
   "mimetype": "text/x-python",
   "name": "python",
   "nbconvert_exporter": "python",
   "pygments_lexer": "ipython3",
   "version": "3.9.3"
  }
 },
 "nbformat": 4,
 "nbformat_minor": 5
}
